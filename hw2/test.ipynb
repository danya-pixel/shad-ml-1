{
 "cells": [
  {
   "cell_type": "code",
   "execution_count": 9,
   "metadata": {},
   "outputs": [],
   "source": [
    "import numpy as np\n",
    "\n",
    "n = 3\n",
    "\n",
    "E = np.identity(n * n, dtype=float)\n",
    "\n",
    "B = np.eye(n * n, k=1, dtype=float)\n",
    "B = np.where(B == 1, -0.25, B)\n",
    "\n",
    "B_1 = np.eye(n * n, k=3, dtype=float)\n",
    "B_1 = np.where(B_1 == 1, -0.25, B_1)\n",
    "\n",
    "D = np.eye(n * n, k=-1, dtype=float)\n",
    "D = np.where(D == 1, -0.25, D)\n",
    "\n",
    "D_1 = np.eye(n * n, k=-3, dtype=float)\n",
    "D_1 = np.where(D_1 == 1, -0.25, D_1)\n",
    "\n",
    "T = D + E + B\n",
    "\n",
    "\n",
    "A = T + D_1 + B_1\n",
    "\n",
    "b = np.ones(n)\n",
    "x0 = np.ones(n)"
   ]
  },
  {
   "cell_type": "code",
   "execution_count": 19,
   "metadata": {},
   "outputs": [],
   "source": [
    "def f(A, x, b):\n",
    "    return 0.5 * np.dot(np.dot(A, x), x) - np.dot(b, x)\n",
    "\n",
    "\n",
    "def df(A, x, b):\n",
    "    return np.dot(A, x) - b\n",
    "\n",
    "\n",
    "def gradient_descent(A, b, x0, tol=1e-3, max_iters=5000):\n",
    "    x = x0\n",
    "    iters = 0\n",
    "    while np.linalg.norm(f(A, x, b) > tol) and iters < max_iters:\n",
    "        r = df(A, x, b)\n",
    "        tau = np.dot(r, r) / np.dot(np.dot(A, r), r)\n",
    "        x -= tau * r\n",
    "        iters += 1\n",
    "        print(f\"iteration: {iters}, residual: {np.linalg.norm(f(A, x, b))}\")"
   ]
  },
  {
   "cell_type": "code",
   "execution_count": 20,
   "metadata": {},
   "outputs": [
    {
     "name": "stdout",
     "output_type": "stream",
     "text": [
      "iteration: 1, residual: 0.49999999999999994\n",
      "iteration: 2, residual: 0.31631944444444454\n",
      "iteration: 3, residual: 0.21028446285494265\n",
      "iteration: 4, residual: 0.1401511521582933\n",
      "iteration: 5, residual: 0.09341023012871469\n",
      "iteration: 6, residual: 0.062257606471091645\n",
      "iteration: 7, residual: 0.04149448702057715\n",
      "iteration: 8, residual: 0.027655937175785694\n",
      "iteration: 9, residual: 0.01843258986892917\n",
      "iteration: 10, residual: 0.01228525965750449\n",
      "iteration: 11, residual: 0.008188084578755696\n",
      "iteration: 12, residual: 0.005457331056727186\n",
      "iteration: 13, residual: 0.003637292943943303\n",
      "iteration: 14, residual: 0.002424243613322926\n",
      "iteration: 15, residual: 0.00161575028113232\n",
      "iteration: 16, residual: 0.001076892172317921\n",
      "iteration: 17, residual: 0.0007177450403950377\n"
     ]
    }
   ],
   "source": [
    "b = np.zeros(n*n)\n",
    "x = np.ones(n*n)\n",
    "\n",
    "gradient_descent(A, b, x)"
   ]
  },
  {
   "cell_type": "code",
   "execution_count": null,
   "metadata": {},
   "outputs": [],
   "source": []
  }
 ],
 "metadata": {
  "kernelspec": {
   "display_name": ".venv",
   "language": "python",
   "name": "python3"
  },
  "language_info": {
   "codemirror_mode": {
    "name": "ipython",
    "version": 3
   },
   "file_extension": ".py",
   "mimetype": "text/x-python",
   "name": "python",
   "nbconvert_exporter": "python",
   "pygments_lexer": "ipython3",
   "version": "3.11.4"
  },
  "orig_nbformat": 4
 },
 "nbformat": 4,
 "nbformat_minor": 2
}
